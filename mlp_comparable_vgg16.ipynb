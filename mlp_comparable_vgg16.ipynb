{
 "cells": [
  {
   "cell_type": "code",
   "execution_count": 2,
   "metadata": {},
   "outputs": [],
   "source": [
    "import sys\n",
    "from matplotlib import pyplot\n",
    "from keras.utils import to_categorical\n",
    "from keras.models import Sequential\n",
    "from keras.layers import Dense\n",
    "from keras.layers import Flatten\n",
    "from keras.optimizers import SGD\n",
    "from keras.preprocessing.image import ImageDataGenerator\n",
    "import tensorflow as tf\n",
    "import numpy as np\n",
    "import time\n",
    "tf.random.set_seed(0)\n",
    "np.random.seed(123)"
   ]
  },
  {
   "cell_type": "code",
   "execution_count": 35,
   "metadata": {},
   "outputs": [],
   "source": [
    "def define_model():\n",
    "    model = Sequential()\n",
    "    model.add(Flatten(input_shape=(224,224,3)))\n",
    "    model.add(Dense(100, activation='relu'))\n",
    "    model.add(Dense(200, activation='relu'))\n",
    "    model.add(Dense(200, activation='relu'))\n",
    "    model.add(Dense(200, activation='relu'))\n",
    "\n",
    "    # compile model\n",
    "    model.add(Dense(1, activation='sigmoid'))\n",
    "    opt = SGD(learning_rate=0.001, momentum=0.9)\n",
    "    model.compile(optimizer=opt, loss='binary_crossentropy', metrics=['accuracy'])\n",
    "    return model"
   ]
  },
  {
   "cell_type": "code",
   "execution_count": 36,
   "metadata": {},
   "outputs": [],
   "source": [
    "def summarize_diagnostics(history):\n",
    "    # plot loss\n",
    "    pyplot.subplot(211)\n",
    "    pyplot.title('Cross Entropy Loss')\n",
    "    pyplot.plot(history.history['loss'], color='blue', label='train')\n",
    "    pyplot.plot(history.history['val_loss'], color='orange', label='test')\n",
    "    # plot accuracy\n",
    "    pyplot.subplot(212)\n",
    "    pyplot.title('Classification Accuracy')\n",
    "    pyplot.plot(history.history['accuracy'], color='blue', label='train')\n",
    "    pyplot.plot(history.history['val_accuracy'], color='orange', label='test')\n",
    "    pyplot.savefig('vgg16_mlp_layers_plot.png')\n",
    "    pyplot.close()"
   ]
  },
  {
   "cell_type": "code",
   "execution_count": 37,
   "metadata": {},
   "outputs": [],
   "source": [
    "def run_test_harness():\n",
    "    # define model\n",
    "    model = define_model()\n",
    "    print(model.summary())\n",
    "    # create data generator\n",
    "    datagen = ImageDataGenerator(rescale=1.0/255.0)\n",
    "    # prepare iterators\n",
    "    train_it = datagen.flow_from_directory('images/train/',\n",
    "        class_mode='binary', batch_size=64, target_size=(224, 224))\n",
    "    test_it = datagen.flow_from_directory('images/test/',\n",
    "        class_mode='binary', batch_size=64, target_size=(224, 224))\n",
    "    # fit model\n",
    "    start_time = time.time()\n",
    "    history = model.fit(train_it, steps_per_epoch=len(train_it),\n",
    "        validation_data=test_it, validation_steps=len(test_it), epochs=20, verbose=0)\n",
    "    end_time = time.time()\n",
    "    # evaluate model\n",
    "    _, acc = model.evaluate(test_it, steps=len(test_it), verbose=0)\n",
    "    training_time = end_time - start_time\n",
    "    print(\"Training Time: %.2f seconds\" % training_time)\n",
    "\n",
    "    print(\"Training Loss:\")\n",
    "    print(history.history['loss'])\n",
    "    print(\"Training Accuracy:\")\n",
    "    print(history.history['accuracy'])\n",
    "    print(\"Testing Accuracy:\")\n",
    "    print('> %.3f' % (acc * 100.0))\n",
    "    model.summary()\n",
    "    summarize_diagnostics(history)"
   ]
  },
  {
   "cell_type": "code",
   "execution_count": 38,
   "metadata": {},
   "outputs": [
    {
     "name": "stderr",
     "output_type": "stream",
     "text": [
      "WARNING:absl:At this time, the v2.11+ optimizer `tf.keras.optimizers.SGD` runs slowly on M1/M2 Macs, please use the legacy Keras optimizer instead, located at `tf.keras.optimizers.legacy.SGD`.\n"
     ]
    },
    {
     "name": "stdout",
     "output_type": "stream",
     "text": [
      "Model: \"sequential_9\"\n",
      "_________________________________________________________________\n",
      " Layer (type)                Output Shape              Param #   \n",
      "=================================================================\n",
      " flatten_9 (Flatten)         (None, 150528)            0         \n",
      "                                                                 \n",
      " dense_50 (Dense)            (None, 100)               15052900  \n",
      "                                                                 \n",
      " dense_51 (Dense)            (None, 200)               20200     \n",
      "                                                                 \n",
      " dense_52 (Dense)            (None, 200)               40200     \n",
      "                                                                 \n",
      " dense_53 (Dense)            (None, 200)               40200     \n",
      "                                                                 \n",
      " dense_54 (Dense)            (None, 1)                 201       \n",
      "                                                                 \n",
      "=================================================================\n",
      "Total params: 15153701 (57.81 MB)\n",
      "Trainable params: 15153701 (57.81 MB)\n",
      "Non-trainable params: 0 (0.00 Byte)\n",
      "_________________________________________________________________\n",
      "None\n",
      "Found 160 images belonging to 2 classes.\n",
      "Found 40 images belonging to 2 classes.\n",
      "Training Time: 96.11 seconds\n",
      "Training Loss:\n",
      "[0.7017335891723633, 0.6882013082504272, 0.6844068765640259, 0.6771219372749329, 0.6704649329185486, 0.6784482598304749, 0.7038336992263794, 0.6851115226745605, 0.6598315238952637, 0.6524168848991394, 0.6361788511276245, 0.6041048765182495, 0.5974501371383667, 0.5765100717544556, 0.5533863306045532, 0.5233866572380066, 0.5072817802429199, 0.48749464750289917, 0.47216805815696716, 0.44594210386276245]\n",
      "Training Accuracy:\n",
      "[0.48750001192092896, 0.48750001192092896, 0.5, 0.5, 0.5562499761581421, 0.5687500238418579, 0.518750011920929, 0.5249999761581421, 0.59375, 0.53125, 0.7124999761581421, 0.75, 0.6937500238418579, 0.7749999761581421, 0.731249988079071, 0.824999988079071, 0.8062499761581421, 0.824999988079071, 0.8187500238418579, 0.8687499761581421]\n",
      "Testing Accuracy:\n",
      "> 85.000\n",
      "Model: \"sequential_9\"\n",
      "_________________________________________________________________\n",
      " Layer (type)                Output Shape              Param #   \n",
      "=================================================================\n",
      " flatten_9 (Flatten)         (None, 150528)            0         \n",
      "                                                                 \n",
      " dense_50 (Dense)            (None, 100)               15052900  \n",
      "                                                                 \n",
      " dense_51 (Dense)            (None, 200)               20200     \n",
      "                                                                 \n",
      " dense_52 (Dense)            (None, 200)               40200     \n",
      "                                                                 \n",
      " dense_53 (Dense)            (None, 200)               40200     \n",
      "                                                                 \n",
      " dense_54 (Dense)            (None, 1)                 201       \n",
      "                                                                 \n",
      "=================================================================\n",
      "Total params: 15153701 (57.81 MB)\n",
      "Trainable params: 15153701 (57.81 MB)\n",
      "Non-trainable params: 0 (0.00 Byte)\n",
      "_________________________________________________________________\n"
     ]
    }
   ],
   "source": [
    "run_test_harness()"
   ]
  }
 ],
 "metadata": {
  "kernelspec": {
   "display_name": "base",
   "language": "python",
   "name": "python3"
  },
  "language_info": {
   "codemirror_mode": {
    "name": "ipython",
    "version": 3
   },
   "file_extension": ".py",
   "mimetype": "text/x-python",
   "name": "python",
   "nbconvert_exporter": "python",
   "pygments_lexer": "ipython3",
   "version": "3.11.4"
  }
 },
 "nbformat": 4,
 "nbformat_minor": 2
}
